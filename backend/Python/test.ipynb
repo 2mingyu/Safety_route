{
 "cells": [
  {
   "cell_type": "markdown",
   "metadata": {},
   "source": [
    "env test"
   ]
  },
  {
   "cell_type": "code",
   "execution_count": null,
   "metadata": {},
   "outputs": [],
   "source": [
    "# 파이썬 설치 확인\n",
    "# > python --version\n",
    "\n",
    "# 파이썬 가상 환경 생성\n",
    "# > python -m venv myenv\n",
    "\n",
    "# 파이썬 가상 환경 활성화\n",
    "# (Windows) > myenv\\Scripts\\activate\n",
    "# (macOs / Linux) > source myenv/bin/activate\n",
    "\n",
    "# 파이썬 패키지 설치\n",
    "# > pip install requests\n",
    "# > pip install flask\n",
    "# > pip install mysql-connector-python\n",
    "\n",
    "# Flask 앱 생성\n",
    "from flask import Flask\n",
    "\n",
    "app = Flask(__name__)\n",
    "\n",
    "@app.route('/')\n",
    "def flask_test():\n",
    "    return 'flask test'\n",
    "\n",
    "if __name__ == '__main__':\n",
    "    app.run()\n",
    "# > python test_env.py\n",
    "\n",
    "# 파이썬 가상 환경 종료\n",
    "# > deactivate\n",
    "\n",
    "\n",
    "# > git init\n",
    "# > git status\n",
    "# > git remote -v\n",
    "# > git branch 브랜치이름\n",
    "# > git checkout 브랜치이름\n",
    "# > git branch\n",
    "# > git add 파일이름\n",
    "# > git add .\n",
    "# > git commit -m \"커밋 메시지\"\n",
    "# > git push origin 브랜치이름"
   ]
  },
  {
   "cell_type": "markdown",
   "metadata": {},
   "source": [
    "flask api test"
   ]
  },
  {
   "cell_type": "code",
   "execution_count": null,
   "metadata": {},
   "outputs": [],
   "source": [
    "# > myenv\\Scripts\\activate\n",
    "# > python test_api.py\n",
    "# http://127.0.0.1:5000/test1?param1=12&param2=34 접속\n",
    "# http://127.0.0.1:5000/test2?param1=56&param2=78 접속\n",
    "from flask import Flask, request, Response, jsonify\n",
    "\n",
    "app = Flask(__name__)\n",
    "\n",
    "@app.route('/test1', methods=['GET'])\n",
    "def get_params1():\n",
    "    param1 = request.args.get('param1')\n",
    "    param2 = request.args.get('param2')\n",
    "    if param1 and param2:\n",
    "        response = {\n",
    "            'function': 'get_params1',\n",
    "            'return1': param1,\n",
    "            'return2': param2,\n",
    "            'message': 'ok'\n",
    "        }\n",
    "        return jsonify(response), 200\n",
    "    return Response('Unauthorized', 400)\n",
    "\n",
    "@app.route('/test2', methods=['GET'])\n",
    "def get_params2():\n",
    "    param1 = request.args.get('param1')\n",
    "    param2 = request.args.get('param2')\n",
    "    if param1 and param2:\n",
    "        response = {\n",
    "            'function': 'get_params2',\n",
    "            'return1': param1,\n",
    "            'return2': param2,\n",
    "            'message': 'ok'\n",
    "        }\n",
    "        return jsonify(response), 200\n",
    "    return Response('Unauthorized', 400)\n",
    "\n",
    "if __name__ == '__main__':\n",
    "    app.run()\n"
   ]
  },
  {
   "cell_type": "markdown",
   "metadata": {},
   "source": [
    "mysql test"
   ]
  },
  {
   "cell_type": "code",
   "execution_count": null,
   "metadata": {},
   "outputs": [],
   "source": [
    "# > pip install mysql-connector-python\n",
    "import mysql.connector\n",
    "\n",
    "db_connection = mysql.connector.connect(\n",
    "    host=\"localhost\",\n",
    "    user=\"root\",\n",
    "    password=\"root\",\n",
    "    database=\"safety_route\"\n",
    ")\n",
    "\n",
    "cursor = db_connection.cursor()"
   ]
  },
  {
   "cell_type": "code",
   "execution_count": null,
   "metadata": {},
   "outputs": [],
   "source": [
    "select_query = \"SELECT * FROM CCTV\"\n",
    "cursor.execute(select_query)\n",
    "result = cursor.fetchall()\n",
    "\n",
    "for row in result[:10]:\n",
    "    print(row)\n",
    "for row in result [-10:]:\n",
    "    print(row)"
   ]
  },
  {
   "cell_type": "code",
   "execution_count": null,
   "metadata": {},
   "outputs": [],
   "source": [
    "cursor.close()\n",
    "db_connection.close()"
   ]
  },
  {
   "cell_type": "markdown",
   "metadata": {},
   "source": [
    "OSRM request test"
   ]
  },
  {
   "cell_type": "code",
   "execution_count": null,
   "metadata": {},
   "outputs": [],
   "source": [
    "# > pip insatll requests\n",
    "import requests\n",
    "\n",
    "def get_route(depart_x, depart_y, arrive_x, arrive_y):\n",
    "    depart_x, depart_y, arrive_x, arrive_y = str(depart_x), str(depart_y), str(arrive_x), str(arrive_y)\n",
    "    request_url = \"http://localhost:5000/route/v1/foot/\"+depart_x+\",\"+depart_y+\";\"+arrive_x+\",\"+arrive_y+\"?alternatives=3&steps=true\"\n",
    "    return requests.get(url=request_url)\n"
   ]
  },
  {
   "cell_type": "code",
   "execution_count": null,
   "metadata": {},
   "outputs": [],
   "source": [
    "# OSRM docker 실행 필요\n",
    "\n",
    "route = get_route(126.63486162967031, 37.376924147295455, 126.64251548843, 37.38308798021501)\n",
    "print(route)\n",
    "print(route.json())\n",
    "print(route.json()['code'])"
   ]
  },
  {
   "cell_type": "code",
   "execution_count": null,
   "metadata": {},
   "outputs": [],
   "source": [
    "from pprint import pprint\n",
    "\n",
    "pprint(route.json())"
   ]
  },
  {
   "cell_type": "code",
   "execution_count": null,
   "metadata": {},
   "outputs": [],
   "source": [
    "import requests\n",
    "import traceback\n",
    "from pprint import pprint\n",
    "\n",
    "try:\n",
    "    depart_x, depart_y, arrive_x, arrive_y = 126.63486, 37.37692, 126.64251, 37.38308\n",
    "    depart_x, depart_y, arrive_x, arrive_y = str(depart_x), str(depart_y), str(arrive_x), str(arrive_y)\n",
    "    OSRM_url = \"http://localhost:5000/route/v1/foot/\"+depart_x+\",\"+depart_y+\";\"+arrive_x+\",\"+arrive_y+\"?alternatives=3&steps=true\"\n",
    "    OSRM_response = requests.get(url=OSRM_url)\n",
    "    if OSRM_response.status_code == 404:\n",
    "        print('404')\n",
    "    else:\n",
    "        routes = OSRM_response.json()['routes']\n",
    "        num_route = len(routes)\n",
    "        route_info = [{} for _ in range(num_route)]\n",
    "        for i in range(num_route):\n",
    "            route_info[i]['distance'] = routes[i]['distance']\n",
    "            route_info[i]['geometry'] = routes[i]['geometry']\n",
    "            route_info[i]['nodes'] = [[depart_x, depart_y]]\n",
    "            route_info[i]['near_cctv'] = []\n",
    "            steps = routes[i]['legs'][0]['steps']\n",
    "            for step in steps:\n",
    "                route_info[i]['nodes'].append(step['maneuver']['location'])\n",
    "            route_info[i]['nodes'].append([arrive_x, arrive_y])\n",
    "        pprint(route_info)\n",
    "except Exception as e:\n",
    "    err = traceback.format_exc()\n",
    "    print(err)"
   ]
  }
 ],
 "metadata": {
  "language_info": {
   "name": "python"
  }
 },
 "nbformat": 4,
 "nbformat_minor": 2
}
